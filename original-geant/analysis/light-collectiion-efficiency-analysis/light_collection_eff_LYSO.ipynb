{
 "cells": [
  {
   "cell_type": "code",
   "execution_count": null,
   "metadata": {},
   "outputs": [],
   "source": [
    "import os\n",
    "import matplotlib.pyplot as plt\n",
    "\n",
    "path = \"/home/smallsat/Desktop/grips-impress/geant4-impress-grips-piggyback/build/data-out\"\n",
    "sipm_out = 'sipm-out.tab'\n",
    "scint_out = 'scint-phots-out.tab'\n",
    "\n",
    "filedir = os.listdir(path)"
   ]
  },
  {
   "cell_type": "code",
   "execution_count": null,
   "metadata": {},
   "outputs": [],
   "source": [
    "print(filedir[0].split('-')[0])"
   ]
  },
  {
   "cell_type": "code",
   "execution_count": null,
   "metadata": {},
   "outputs": [],
   "source": [
    "def read_sum(folder_name):\n",
    "    sipm_file_name= \"/home/smallsat/Desktop/grips-impress/geant4-impress-grips-piggyback/build/data-out/\" + folder_name + \"/\" + sipm_out\n",
    "    scint_file_name = \"/home/smallsat/Desktop/grips-impress/geant4-impress-grips-piggyback/build/data-out/\" + folder_name + \"/\" + scint_out\n",
    "    sipm_file = open(sipm_file_name, \"r\")\n",
    "    scint_file = open(scint_file_name, \"r\")\n",
    "\n",
    "    sipm_dat = sipm_file.readlines()\n",
    "    scint_dat = scint_file.readlines()\n",
    "\n",
    "    sipm_sum = 0\n",
    "    scint_sum = 0\n",
    "    for num in sipm_dat:\n",
    "        sipm_sum += int(num)\n",
    "    for num in scint_dat:\n",
    "        scint_sum += int(num)\n",
    "    \n",
    "    return sipm_sum/scint_sum\n"
   ]
  },
  {
   "cell_type": "code",
   "execution_count": null,
   "metadata": {},
   "outputs": [],
   "source": [
    "dat = dict()\n",
    "\n",
    "for folder in filedir:\n",
    "    if folder != 'GAGG_Data':\n",
    "        coll_eff = read_sum(folder)\n",
    "        cut_name = folder.split('-')[0]\n",
    "        dat[cut_name] = coll_eff"
   ]
  },
  {
   "cell_type": "code",
   "execution_count": null,
   "metadata": {},
   "outputs": [],
   "source": [
    "finish = ['RRR','RRP','PPP','PPR']\n",
    "dimensions = [(40,5,40),(34,5,40),(28,5,40),(22,5,40),(16,5,40),(10,5,40),(4,5,40),(4,5,35),(4,5,30),(4,5,25),(4,5,20),(4,5,15),(4,5,10),(4,5,5),(4,4,4),(10,5,5),(16,5,5),(22,5,5),(28,5,5),(34,5,5),(40,5,5),(40,5,10),(40,5,15),(40,5,20),(40,5,25),(40,5,30),(40,5,35)]\n",
    "reflectors = ['TEF','ESR','NO_REF']\n",
    "\n",
    "tef_rrr = list()\n",
    "tef_rrp = list()\n",
    "tef_ppp = list()\n",
    "tef_ppr = list()\n",
    "\n",
    "esr_rrr = list()\n",
    "esr_rrp = list()\n",
    "esr_ppp = list()\n",
    "esr_ppr = list()\n",
    "\n",
    "non_rrr = list()\n",
    "non_rrp = list()\n",
    "non_ppp = list()\n",
    "non_ppr = list()\n",
    "\n",
    "for dim in dimensions:\n",
    "    for ref in reflectors:\n",
    "        for surf in finish:\n",
    "            key = str(dim[0]) + \"x\" + str(dim[1]) + \"x\" + str(dim[2]) + \"_\" + surf + \"_\" + ref\n",
    "            if ref == \"TEF\" and surf == \"RRR\":\n",
    "                tef_rrr.append(dat[key])\n",
    "            elif ref == \"TEF\" and surf == \"RRP\":\n",
    "                tef_rrp.append(dat[key])\n",
    "            elif ref == \"TEF\" and surf == \"PPP\":\n",
    "                tef_ppp.append(dat[key])\n",
    "            elif ref == \"TEF\" and surf == \"PPR\":\n",
    "                tef_ppr.append(dat[key])\n",
    "            elif ref == \"ESR\" and surf == \"RRR\":\n",
    "                esr_rrr.append(dat[key])\n",
    "            elif ref == \"ESR\" and surf == \"RRP\":\n",
    "                esr_rrp.append(dat[key])\n",
    "            elif ref == \"ESR\" and surf == \"PPP\":\n",
    "                esr_ppp.append(dat[key])\n",
    "            elif ref == \"ESR\" and surf == \"PPR\":\n",
    "                esr_ppr.append(dat[key])\n",
    "            elif ref == \"NO_REF\" and surf == \"RRR\":\n",
    "                non_rrr.append(dat[key])\n",
    "            elif ref == \"NO_REF\" and surf == \"RRP\":\n",
    "                non_rrp.append(dat[key])\n",
    "            elif ref == \"NO_REF\" and surf == \"PPP\":\n",
    "                non_ppp.append(dat[key])\n",
    "            elif ref == \"NO_REF\" and surf == \"PPR\":\n",
    "                non_ppr.append(dat[key])"
   ]
  },
  {
   "cell_type": "code",
   "execution_count": null,
   "metadata": {},
   "outputs": [],
   "source": [
    "dx = [40,34,38,22,16,10,4]\n",
    "dz = [40,35,30,25,20,15,10,5] \n",
    "dx2 = [4,10,16,22,28,34,40] \n",
    "dz2 = [5,10,15,20,25,30,35] "
   ]
  },
  {
   "cell_type": "code",
   "execution_count": null,
   "metadata": {},
   "outputs": [],
   "source": [
    "#Start with Teflon data\n",
    "fig, ax = plt.subplots()\n",
    "ax.scatter(dx,tef_rrr[:7])\n",
    "ax.scatter(dx,tef_rrp[:7])\n",
    "ax.scatter(dx,tef_ppp[:7])\n",
    "ax.scatter(dx,tef_ppr[:7])\n",
    "ax.legend(['RRR','RRP','PPP','PPR'])\n",
    "ax.set_title('LYSO-Teflon Light Collection Efficiency W/ Changing X Dimension & Constant 5x40mm2 yz Faces (Small Face Rod to Plate)')\n",
    "ax.set_xlabel('x length (mm)')\n",
    "ax.set_ylabel('Light Collection Efficiency')\n",
    "plt.show()\n",
    "plt.savefig(\"LYSO_Teflon_Collec_Eff_const5x40yzface\",dpi=300)"
   ]
  },
  {
   "cell_type": "code",
   "execution_count": null,
   "metadata": {},
   "outputs": [],
   "source": [
    "plt.plot(dz,tef_rrr[6:14])\n",
    "plt.plot(dz,tef_rrp[6:14])\n",
    "plt.plot(dz,tef_ppp[6:14])\n",
    "plt.plot(dz,tef_ppr[6:14])\n",
    "plt.legend(['RRR','RRP','PPP','PPR'])\n",
    "plt.title('LYSO-Teflon Light Collection Efficiency W/ Changing Z Dimension & Constant 4x5mm2 xy Faces (Cube to Small Face Rod)')\n",
    "plt.xlabel('x length (mm)')\n",
    "plt.ylabel('Light Collection Efficiency')\n",
    "plt.show()"
   ]
  },
  {
   "cell_type": "code",
   "execution_count": null,
   "metadata": {},
   "outputs": [],
   "source": [
    "plt.plot(dx2,tef_rrr[13:20])\n",
    "plt.plot(dx2,tef_rrp[13:20])\n",
    "plt.plot(dx2,tef_ppp[13:20])\n",
    "plt.plot(dx2,tef_ppr[13:20])\n",
    "plt.legend(['RRR','RRP','PPP','PPR'])\n",
    "plt.title('LYSO-Teflon Light Collection Efficiency W/ Changing X Dimension & Constant 5x5mm2 yz Faces (Cube to Large Face Rod)')\n",
    "plt.xlabel('x length (mm)') #CHANGE LABEL\n",
    "plt.ylabel('Light Collection Efficiency')\n",
    "plt.show()"
   ]
  },
  {
   "cell_type": "code",
   "execution_count": null,
   "metadata": {},
   "outputs": [],
   "source": [
    "plt.plot(dz2,tef_rrr[19:26])\n",
    "plt.plot(dz2,tef_rrp[19:26])\n",
    "plt.plot(dz2,tef_ppp[19:26])\n",
    "plt.plot(dz2,tef_ppr[19:26])\n",
    "plt.legend(['RRR','RRP','PPP','PPR'])\n",
    "plt.title('LYSO-Teflon Light Collection Efficiency W/ Changing Z Dimension & Constant 40x5mm2 xy Faces (Large Face Rod to Plate)')\n",
    "plt.xlabel('z length (mm)')\n",
    "plt.ylabel('Light Collection Efficiency')\n",
    "plt.show()"
   ]
  },
  {
   "cell_type": "code",
   "execution_count": null,
   "metadata": {},
   "outputs": [],
   "source": [
    "#Next with ESR data\n",
    "plt.plot(dx,esr_rrr[:7])\n",
    "plt.plot(dx,esr_rrp[:7])\n",
    "plt.plot(dx,esr_ppp[:7])\n",
    "plt.plot(dx,esr_ppr[:7])\n",
    "plt.legend(['RRR','RRP','PPP','PPR'])\n",
    "plt.title('LYSO-ESR Light Collection Efficiency W/ Changing X Dimension & Constant 5x40mm2 yz Faces (Small Face Rod to Plate)')\n",
    "plt.xlabel('x length (mm)')\n",
    "plt.ylabel('Light Collection Efficiency')\n",
    "plt.show()"
   ]
  },
  {
   "cell_type": "code",
   "execution_count": null,
   "metadata": {},
   "outputs": [],
   "source": [
    "plt.plot(dz,esr_rrr[6:14])\n",
    "plt.plot(dz,esr_rrp[6:14])\n",
    "plt.plot(dz,esr_ppp[6:14])\n",
    "plt.plot(dz,esr_ppr[6:14])\n",
    "plt.legend(['RRR','RRP','PPP','PPR'])\n",
    "plt.title('LYSO-ESR Light Collection Efficiency W/ Changing Z Dimension & Constant 4x5mm2 xy Faces (Cube to Small Face Rod)')\n",
    "plt.xlabel('x length (mm)')\n",
    "plt.ylabel('Light Collection Efficiency')\n",
    "plt.show()"
   ]
  },
  {
   "cell_type": "code",
   "execution_count": null,
   "metadata": {},
   "outputs": [],
   "source": [
    "plt.plot(dx2,esr_rrr[13:20])\n",
    "plt.plot(dx2,esr_rrp[13:20])\n",
    "plt.plot(dx2,esr_ppp[13:20])\n",
    "plt.plot(dx2,esr_ppr[13:20])\n",
    "plt.legend(['RRR','RRP','PPP','PPR'])\n",
    "plt.title('LYSO-ESR Light Collection Efficiency W/ Changing X Dimension & Constant 5x5mm2 yz Faces (Cube to Large Face Rod)')\n",
    "plt.xlabel('x length (mm)') #CHANGE LABEL\n",
    "plt.ylabel('Light Collection Efficiency')\n",
    "plt.show()"
   ]
  },
  {
   "cell_type": "code",
   "execution_count": null,
   "metadata": {},
   "outputs": [],
   "source": [
    "plt.plot(dz2,esr_rrr[19:26])\n",
    "plt.plot(dz2,esr_rrp[19:26])\n",
    "plt.plot(dz2,esr_ppp[19:26])\n",
    "plt.plot(dz2,esr_ppr[19:26])\n",
    "plt.legend(['RRR','RRP','PPP','PPR'])\n",
    "plt.title('LYSO-ESR Light Collection Efficiency W/ Changing Z Dimension & Constant 40x5mm2 xy Faces (Large Face Rod to Plate)')\n",
    "plt.xlabel('z length (mm)')\n",
    "plt.ylabel('Light Collection Efficiency')\n",
    "plt.show()"
   ]
  },
  {
   "cell_type": "code",
   "execution_count": null,
   "metadata": {},
   "outputs": [],
   "source": [
    "#ESR and Teflon data Combined\n",
    "plt.plot(dx,tef_rrr[:7])\n",
    "plt.plot(dx,tef_rrp[:7])\n",
    "plt.plot(dx,tef_ppp[:7])\n",
    "plt.plot(dx,tef_ppr[:7])\n",
    "plt.plot(dx,esr_rrr[:7])\n",
    "plt.plot(dx,esr_rrp[:7])\n",
    "plt.plot(dx,esr_ppp[:7])\n",
    "plt.plot(dx,esr_ppr[:7])\n",
    "plt.legend(['RRR-Teflon','RRP-Teflon','PPP-Teflon','PPR-Teflon','RRR-ESR','RRP-ESR','PPP-ESR','PPR-ESR'])\n",
    "plt.title('LYSO- Light Collection Efficiency W/ Changing X Dimension & Constant 5x40mm2 yz Faces (Small Face Rod to Plate)')\n",
    "plt.xlabel('x length (mm)')\n",
    "plt.ylabel('Light Collection Efficiency')\n",
    "plt.show()"
   ]
  },
  {
   "cell_type": "code",
   "execution_count": null,
   "metadata": {},
   "outputs": [],
   "source": [
    "plt.plot(dz,tef_rrr[6:14])\n",
    "plt.plot(dz,tef_rrp[6:14])\n",
    "plt.plot(dz,tef_ppp[6:14])\n",
    "plt.plot(dz,tef_ppr[6:14])\n",
    "plt.plot(dz,esr_rrr[6:14])\n",
    "plt.plot(dz,esr_rrp[6:14])\n",
    "plt.plot(dz,esr_ppp[6:14])\n",
    "plt.plot(dz,esr_ppr[6:14])\n",
    "plt.legend(['RRR-Teflon','RRP-Teflon','PPP-Teflon','PPR-Teflon','RRR-ESR','RRP-ESR','PPP-ESR','PPR-ESR'])\n",
    "plt.title('LYSO Light Collection Efficiency W/ Changing Z Dimension & Constant 4x5mm2 xy Faces (Cube to Small Face Rod)')\n",
    "plt.xlabel('x length (mm)')\n",
    "plt.ylabel('Light Collection Efficiency')\n",
    "plt.show()"
   ]
  },
  {
   "cell_type": "code",
   "execution_count": null,
   "metadata": {},
   "outputs": [],
   "source": [
    "plt.plot(dx2,tef_rrr[13:20])\n",
    "plt.plot(dx2,tef_rrp[13:20])\n",
    "plt.plot(dx2,tef_ppp[13:20])\n",
    "plt.plot(dx2,tef_ppr[13:20])\n",
    "plt.plot(dx2,esr_rrr[13:20])\n",
    "plt.plot(dx2,esr_rrp[13:20])\n",
    "plt.plot(dx2,esr_ppp[13:20])\n",
    "plt.plot(dx2,esr_ppr[13:20])\n",
    "plt.legend(['RRR-Teflon','RRP-Teflon','PPP-Teflon','PPR-Teflon','RRR-ESR','RRP-ESR','PPP-ESR','PPR-ESR'])\n",
    "plt.title('LYSO Light Collection Efficiency W/ Changing X Dimension & Constant 5x5mm2 yz Faces (Cube to Large Face Rod)')\n",
    "plt.xlabel('x length (mm)') #CHANGE LABEL\n",
    "plt.ylabel('Light Collection Efficiency')\n",
    "plt.show()"
   ]
  },
  {
   "cell_type": "code",
   "execution_count": null,
   "metadata": {},
   "outputs": [],
   "source": [
    "plt.plot(dz2,tef_rrr[19:26])\n",
    "plt.plot(dz2,tef_rrp[19:26])\n",
    "plt.plot(dz2,tef_ppp[19:26])\n",
    "plt.plot(dz2,tef_ppr[19:26])\n",
    "plt.plot(dz2,esr_rrr[19:26])\n",
    "plt.plot(dz2,esr_rrp[19:26])\n",
    "plt.plot(dz2,esr_ppp[19:26])\n",
    "plt.plot(dz2,esr_ppr[19:26])\n",
    "plt.legend(['RRR-Teflon','RRP-Teflon','PPP-Teflon','PPR-Teflon','RRR-ESR','RRP-ESR','PPP-ESR','PPR-ESR'])\n",
    "plt.title('LYSO Light Collection Efficiency W/ Changing Z Dimension & Constant 40x5mm2 xy Faces (Large Face Rod to Plate)')\n",
    "plt.xlabel('z length (mm)')\n",
    "plt.ylabel('Light Collection Efficiency')\n",
    "plt.show()"
   ]
  },
  {
   "cell_type": "code",
   "execution_count": null,
   "metadata": {},
   "outputs": [],
   "source": [
    "#Last with no reflector data\n",
    "plt.plot(dx,non_rrr[:7])\n",
    "plt.plot(dx,non_rrp[:7])\n",
    "plt.plot(dx,non_ppp[:7])\n",
    "plt.plot(dx,non_ppr[:7])\n",
    "plt.legend(['RRR','RRP','PPP','PPR'])\n",
    "plt.title('LYSO-No Reflector Light Collection Efficiency W/ Changing X Dimension & Constant 5x40mm2 yz Faces (Small Face Rod to Plate)')\n",
    "plt.xlabel('x length (mm)')\n",
    "plt.ylabel('Light Collection Efficiency')\n",
    "plt.show()"
   ]
  },
  {
   "cell_type": "code",
   "execution_count": null,
   "metadata": {},
   "outputs": [],
   "source": [
    "plt.plot(dz,non_rrr[6:14])\n",
    "plt.plot(dz,non_rrp[6:14])\n",
    "plt.plot(dz,non_ppp[6:14])\n",
    "plt.plot(dz,non_ppr[6:14])\n",
    "plt.legend(['RRR','RRP','PPP','PPR'])\n",
    "plt.title('LYSO-No Reflector Light Collection Efficiency W/ Changing Z Dimension & Constant 4x5mm2 xy Faces (Cube to Small Face Rod)')\n",
    "plt.xlabel('x length (mm)')\n",
    "plt.ylabel('Light Collection Efficiency')\n",
    "plt.show()"
   ]
  },
  {
   "cell_type": "code",
   "execution_count": null,
   "metadata": {},
   "outputs": [],
   "source": [
    "plt.plot(dx2,non_rrr[13:20])\n",
    "plt.plot(dx2,non_rrp[13:20])\n",
    "plt.plot(dx2,non_ppp[13:20])\n",
    "plt.plot(dx2,non_ppr[13:20])\n",
    "plt.legend(['RRR','RRP','PPP','PPR'])\n",
    "plt.title('LYSO-No Reflector Light Collection Efficiency W/ Changing X Dimension & Constant 5x5mm2 yz Faces (Cube to Large Face Rod)')\n",
    "plt.xlabel('x length (mm)') #CHANGE LABEL\n",
    "plt.ylabel('Light Collection Efficiency')\n",
    "plt.show()"
   ]
  },
  {
   "cell_type": "code",
   "execution_count": null,
   "metadata": {},
   "outputs": [],
   "source": [
    "plt.plot(dz2,non_rrr[19:26])\n",
    "plt.plot(dz2,non_rrp[19:26])\n",
    "plt.plot(dz2,non_ppp[19:26])\n",
    "plt.plot(dz2,non_ppr[19:26])\n",
    "plt.legend(['RRR','RRP','PPP','PPR'])\n",
    "plt.title('LYSO-No Reflector Light Collection Efficiency W/ Changing Z Dimension & Constant 40x5mm2 xy Faces (Large Face Rod to Plate)')\n",
    "plt.xlabel('z length (mm)')\n",
    "plt.ylabel('Light Collection Efficiency')\n",
    "plt.show()"
   ]
  },
  {
   "cell_type": "code",
   "execution_count": null,
   "metadata": {},
   "outputs": [],
   "source": [
    "import dat_read as dr\n",
    "\n",
    "path = '/home/smallsat/Desktop/grips-impress/geant4-impress-grips-piggyback/build/data-out/LYSO_Data'\n",
    "\n",
    "dat = dr.build_LCE_dict(path)\n",
    "tef_set, esr_set, non_set = dr.build_LCE_lists(dat)"
   ]
  },
  {
   "cell_type": "code",
   "execution_count": null,
   "metadata": {},
   "outputs": [],
   "source": [
    "scint_name = \"LSYO\"\n",
    "tef_save_names = [\"LYSO_tef_smlrod_to_plate\", \"LYSO_tef_cube_to_smlrod\", \"LYSO_tef_cube_to_lrgrod\", \"LSYO_tef_lrgrod_to_plate\"]\n",
    "\n",
    "esr_save_names = [\"LSYO_esr_smlrod_to_plate\", \"LYSO_esr_cube_to_smlrod\", \"LYSO_esr_cube_to_lrgrod\", \"LYSO_esr_lrgrod_to_plate\"]\n",
    "\n",
    "no_ref_save_names = [\"LYSO_noref_smlrod_to_plate\", \"LYSO_noref_cube_to_smlrod\", \"LYSO_noref_cube_to_lrgrod\", \"LYSO_noref_lrgrod_to_plate\"]"
   ]
  },
  {
   "cell_type": "code",
   "execution_count": null,
   "metadata": {},
   "outputs": [],
   "source": [
    "dr.plot_dat(tef_set, scint_name, \"teflon\", tef_save_names)"
   ]
  },
  {
   "cell_type": "code",
   "execution_count": null,
   "metadata": {},
   "outputs": [],
   "source": [
    "dr.plot_dat(esr_set, scint_name, \"esr\", esr_save_names)"
   ]
  },
  {
   "cell_type": "code",
   "execution_count": null,
   "metadata": {},
   "outputs": [],
   "source": [
    "dr.plot_dat(non_set, scint_name, \"no_reflector\", no_ref_save_names)"
   ]
  }
 ],
 "metadata": {
  "kernelspec": {
   "display_name": "Python 3 (ipykernel)",
   "language": "python",
   "name": "python3"
  },
  "language_info": {
   "codemirror_mode": {
    "name": "ipython",
    "version": 3
   },
   "file_extension": ".py",
   "mimetype": "text/x-python",
   "name": "python",
   "nbconvert_exporter": "python",
   "pygments_lexer": "ipython3",
   "version": "3.11.0"
  }
 },
 "nbformat": 4,
 "nbformat_minor": 2
}
