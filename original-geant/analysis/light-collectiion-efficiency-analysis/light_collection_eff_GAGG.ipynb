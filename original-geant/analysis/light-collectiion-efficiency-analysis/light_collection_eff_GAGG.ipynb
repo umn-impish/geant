{
 "cells": [
  {
   "cell_type": "code",
   "execution_count": null,
   "metadata": {},
   "outputs": [],
   "source": [
    "import dat_read as dr\n",
    "\n",
    "path = '/home/smallsat/Desktop/grips-impress/geant4-impress-grips-piggyback/build/data-out'\n",
    "\n",
    "dat = dr.build_LCE_dict(path)\n",
    "tef_set, esr_set, non_set = dr.build_LCE_lists(dat)"
   ]
  },
  {
   "cell_type": "code",
   "execution_count": null,
   "metadata": {},
   "outputs": [],
   "source": [
    "scint_name = \"GAGG\"\n",
    "tef_save_names = [\"GAGG_tef_smlrod_to_plate\", \"GAGG_tef_cube_to_smlrod\", \"GAGG_tef_cube_to_lrgrod\", \"GAGG_tef_lrgrod_to_plate\"]\n",
    "\n",
    "esr_save_names = [\"GAGG_esr_smlrod_to_plate\", \"GAGG_esr_cube_to_smlrod\", \"GAGG_esr_cube_to_lrgrod\", \"GAGG_esr_lrgrod_to_plate\"]\n",
    "\n",
    "no_ref_save_names = [\"GAGG_noref_smlrod_to_plate\", \"GAGG_noref_cube_to_smlrod\", \"GAGG_noref_cube_to_lrgrod\", \"GAGG_noref_lrgrod_to_plate\"]\n"
   ]
  },
  {
   "cell_type": "code",
   "execution_count": null,
   "metadata": {},
   "outputs": [],
   "source": [
    "dr.plot_dat(tef_set, scint_name, \"teflon\", tef_save_names)"
   ]
  },
  {
   "cell_type": "code",
   "execution_count": null,
   "metadata": {},
   "outputs": [],
   "source": [
    "dr.plot_dat(esr_set, scint_name, \"esr\", esr_save_names)"
   ]
  },
  {
   "cell_type": "code",
   "execution_count": null,
   "metadata": {},
   "outputs": [],
   "source": [
    "dr.plot_dat(non_set, scint_name, \"no_reflector\", no_ref_save_names)"
   ]
  }
 ],
 "metadata": {
  "kernelspec": {
   "display_name": "Python 3 (ipykernel)",
   "language": "python",
   "name": "python3"
  },
  "language_info": {
   "codemirror_mode": {
    "name": "ipython",
    "version": 3
   },
   "file_extension": ".py",
   "mimetype": "text/x-python",
   "name": "python",
   "nbconvert_exporter": "python",
   "pygments_lexer": "ipython3",
   "version": "3.11.0"
  },
<<<<<<< HEAD:light_collection_eff_GAGG.ipynb
  "orig_nbformat": 4
=======
  "vscode": {
   "interpreter": {
    "hash": "916dbcbb3f70747c44a77c7bcd40155683ae19c65e1c03b4aa3499c5328201f1"
   }
  }
>>>>>>> 4c2add0678b568220df377a6ecfab556770a943c:analysis/light-collectiion-efficiency-analysis/light_collection_eff_GAGG.ipynb
 },
 "nbformat": 4,
 "nbformat_minor": 2
}
